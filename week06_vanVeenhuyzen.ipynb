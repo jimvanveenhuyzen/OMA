{
 "cells": [
  {
   "cell_type": "markdown",
   "metadata": {},
   "source": [
    "*** \n",
    "# HCI Week 6 - Angular Differential Imaging\n",
    "*Matthew Kenworthy // Leiden Observatory*\n",
    "***\n",
    "\n",
    "<div class=\"alert alert-block alert-info\">\n",
    "<b>NOTE: Please send your OWN ADI.fits file [see question 6.8] along with the notebook. <br>You can hand in the week_06_[yourname].ipynb and ADI.fits by compressing them into a .zip file</b>\n",
    "</div>\n",
    "\n",
    "Today we cover the implementation of Angular Differential Imaging as described in [Marois et al. (2006)](https://ui.adsabs.harvard.edu/abs/2006ApJ...641..556M/abstract). You should download the paper and keep a copy open - we will use the same terminology.\n",
    "\n",
    "There are multiple steps to perform. The questions will guide you though the process:\n",
    "* [*Question 6.1*](#part1) *- 6.2: Understanding content data cube & subtraction of background noise*\n",
    "* [*Question 6.3*](#part2) *- 6.4: (De)rotation of images*\n",
    "* [*Question 6.5*](#part3) *- 6.9: Writing your own ADI routine*\n",
    "\n",
    "One of the crucial steps are the (de)rotating of images. In this notebook you will find examples of both rotating and derotating images.\n",
    "\n",
    "\n",
    "## Angular Differential Imaging (ADI)\n",
    "Angular differential imaging [Marois et al. (2006)](https://ui.adsabs.harvard.edu/abs/2006ApJ...641..556M/abstract) is a high contrast imaging method that proved to be very efficient in reducing quasistatic speckle noise. \n",
    "\n",
    "The derotator of a telescope is turned off so that the optics of the telescope (including spiders and coronagrapgh) are fixed with respect to each other while the field of view of the sky rotates over time with respect to the imaging detector. \n",
    "\n",
    "Because of this technique the telescope pupil remains stable while the field of view is rotating. This causes all candidate companions to have a predictable apparent motion along a circular trajectory around the host star (e.g. see Equation 1 in the Marois paper). \n",
    "\n",
    "Speckles resulting from instrumental aberrations are thus (hopefully!) strongly correlated from one exposure to the other. This allows us to stabilise the brightness and position of the speckles while preserving the signal from the off-axis sources. As these sources have a predictable arc-like motion around the central star, we can separate them from the speckle background. \n",
    "\n",
    "As we know from our tutorials regarding coronagraphs, we expect to be able to detect planets only outside the first airy core and/or occulting mask. For companions at large radii, we expect the stellar halo to be faint enough that we don't need to process the data with ADI much beyond 3 arcseconds radius. \n",
    "\n",
    "<img src=\"ADI.png\" width=500px>\n",
    "\n",
    "<div class=\"alert alert-block alert-info\">\n",
    "<b>Tip:</b> As always, read through the functions defined in the block below, as they may help with the exercises.</div>\n",
    "\n",
    "Load Python modules into the notebook:"
   ]
  },
  {
   "cell_type": "code",
   "execution_count": 1,
   "metadata": {},
   "outputs": [],
   "source": [
    "import numpy as np\n",
    "import matplotlib.pyplot as plt\n",
    "%matplotlib inline\n",
    "from astropy.io import fits\n",
    "\n",
    "import matplotlib as mpl\n",
    "mpl.rc('image', interpolation='nearest', origin='lower')\n",
    "\n",
    "def wfits(im, fname):\n",
    "    \"\"\"wfits - write im to file fname, automatically overwriting any old file\"\"\"\n",
    "    from astropy.io import fits\n",
    "    hea = fits.PrimaryHDU(im)\n",
    "    hea.writeto(fname, overwrite=True)\n",
    "\n",
    "def r_theta(im, xc, yc):\n",
    "    \"\"\"r_theta - make a radius mask and return the radius rr and the angle phi for point (xc,yc)\"\"\"\n",
    "    ny, nx = im.shape\n",
    "    yp, xp = np.mgrid[0:ny,0:nx]\n",
    "    yp = yp - yc\n",
    "    xp = xp - xc\n",
    "    rr = np.sqrt(np.power(yp,2.) + np.power(xp,2.))\n",
    "    phi = np.arctan2(yp, xp)\n",
    "    return(rr, phi)\n",
    "\n",
    "def cen_rot2 (im, rot, dim_out, offset1=(0,0), offset2=(0,0), order=2):\n",
    "    \"\"\"cen_rot2 - takes a cube of images im, and a set of rotation angles in rot,\n",
    "                and translates the middle of the frame with a size dim_out to the middle of\n",
    "                a new output frame with an additional rotation of rot degrees.\n",
    "                \"\"\"\n",
    "    from scipy.ndimage import affine_transform\n",
    "    a = rot * np.pi / 180.\n",
    "    \n",
    "    # make a rotation matrix\n",
    "    transform=np.array([[np.cos(a),-np.sin(a)],[np.sin(a),np.cos(a)]])\n",
    "    \n",
    "    # calculate total offset for image output by (1) and (2)\n",
    "\n",
    "    # (1) determine centre of input image\n",
    "\n",
    "    c_in = np.array(offset1) - 0.5             # -0.5 to get rit off fencepost counting error\n",
    "    c_out = 0.5 * np.array(dim_out) - 0.5      # -0.5 to get rit off fencepost counting error\n",
    "\n",
    "    # (2) c_out has to be pre-rotated to make offset correct\n",
    "    offset = c_in - c_out.dot(transform) - np.array(offset2).dot(transform)\n",
    "    \n",
    "    # perform the transformation\n",
    "    dst=affine_transform( \\\n",
    "        im,transform.T, order=order,offset=offset, \\\n",
    "        output_shape=dim_out, cval=0.0)\n",
    "    return(dst)\n",
    "\n",
    "def derot_cube(imin, rotangle, out_dims, star_cen):\n",
    "    \"\"\"derot_cube - takes a cube of images im, and a set of rotation angles in rot,\n",
    "                and translates the middle of the frame with a size dim_out to the middle of\n",
    "                a new output frame with an additional rotation of rot degrees.\n",
    "                \"\"\"\n",
    "    # get shape of input image\n",
    "    nim, nx, ny = imin.shape\n",
    "    \n",
    "    # make a zero value numpy array for the output\n",
    "    im_out = np.zeros((nim, out_dims[0], out_dims[1]))\n",
    "    \n",
    "    # for every frame in imin perform the derotation of rotangle\n",
    "    for j, frame in enumerate(np.split(imin, nim, axis=0)):\n",
    "        frame_sq = np.squeeze(frame)\n",
    "        frame_rot = cen_rot2(frame_sq, rotangle[j], out_dims, offset1=star_cen)\n",
    "        im_out[j,:,:] = frame_rot\n",
    "        \n",
    "    return(im_out)    "
   ]
  },
  {
   "cell_type": "markdown",
   "metadata": {},
   "source": [
    "<a id='part1'></a>\n",
    "\n",
    "## Data of the planetary system HR 8799\n",
    "The data is from the [NIRC2](https://www2.keck.hawaii.edu/inst/nirc2/) camera on the Keck II 10m telescope, from observing program U159N2 by Bruce Macintosh. This data is courtesy of Travis Barman. Image registration by Raphael Galicher. \n",
    "\n",
    "The data is taken in the L prime (Lp) filter (covers 3.42 to 4.12 microns in wavelength), and the camera has a pixel scale of 10 mas/pixel.\n",
    "\n",
    "https://www2.keck.hawaii.edu/inst/nirc2/genspecs.html\n",
    "\n",
    "#### Image data and position angle data\n",
    "The data consists of approximately 100 images taken over the course of one night on Keck in 2009. Keck is an Alt-az telescope, so the sky rotates in the camera field of view. To derotate the images so that they are all aligned on the sky, you need a list of derotation angles, provided in `rotnth.fits`. You can read it in the same way as the data cube file.\n",
    "\n",
    "\n",
    "---\n",
    "<span style=\"  font-size:2em; color: SteelBlue;\">Question 6.1</span> <span style=\"  font-size:1em; color: SteelBlue;\"> (2 points): </span>\n",
    "\n",
    "**Read in the data cube containing the multiple images as `im`, the rotation angle file as `rot` and plot `rot` as a function of frame number. Label the `x` axis with 'frame number' and the `y` axis with 'rotation angle'.**\n",
    "\n",
    "***"
   ]
  },
  {
   "cell_type": "code",
   "execution_count": 2,
   "metadata": {},
   "outputs": [
    {
     "data": {
      "image/png": "[encoded data removed]",
      "text/plain": [
       "<Figure size 640x480 with 1 Axes>"
      ]
     },
     "metadata": {},
     "output_type": "display_data"
    },
    {
     "name": "stdout",
     "output_type": "stream",
     "text": [
      "Number of rotaton angles in rotation file ::    94\n",
      "Number of images                          ::    94\n",
      "Pixel size of the images                  ::    1224 x 1224\n"
     ]
    }
   ],
   "source": [
    "# Q1 answer here\n",
    "\n",
    "im = fits.getdata('barman_2009_data/center_im.fits.gz')\n",
    "rot = fits.getdata('barman_2009_data/rotnth.fits')\n",
    "\n",
    "plt.plot(np.arange(len(rot)),rot)\n",
    "plt.xlabel('frame number')\n",
    "plt.ylabel('rotation angle')\n",
    "plt.title('Rotation angle as a function of image frame number')\n",
    "plt.show()\n",
    "\n",
    "# Q1 end of answer\n",
    "\n",
    "print(\"Number of rotaton angles in rotation file ::    {}\".format(rot.shape[0]))\n",
    "print(\"Number of images                          ::    {}\".format(im.shape[0]))\n",
    "print(\"Pixel size of the images                  ::    {} x {}\".format(im.shape[1],im.shape[2]))"
   ]
  },
  {
   "cell_type": "markdown",
   "metadata": {},
   "source": [
    "## Subtract off the sky background\n",
    "\n",
    "Bad/missing values are labelled as `NaN` (Not A Number) in `FITS` files and in `numpy`. You must use `np.nanmedian()` and `np.nansum()` and other `np.nan....` functions to calculate median, sum, standard deviation and other functions correctly accounting for the `NaN` values in the data.\n",
    "\n",
    "For all the `np.sum`, `np.median` functions, you can also specify one or more `axes` to carry out a median or sum over, and you can specify them as an optional argument passed to the function as `axis=(1,3)` to carry out the function over both the 1 and 3 dimesions.\n",
    "\n",
    "The sky background varies by several thousand counts between frames, but it can be treated as a constant value across each individual frame. Well over half of the pixels in each frame have sky flux in them, so taking a median of each frame is a good approximation for the sky background for that frame.\n",
    "\n",
    "\n",
    "---\n",
    "<span style=\"  font-size:2em; color: SteelBlue;\">Question 6.2</span> <span style=\"  font-size:1em; color: SteelBlue;\"> (3 points): </span>\n",
    "\n",
    "**Calculate the median of each of the frames, and plot it as a function of frame number in the cube. Then subtract off the median value of each individual frame from that frame. This can be done for all the frames in the cube in one go using `numpy` broadcasting, or (far more slowly) using an appropriate `for` loop. Call the result `im_bg`.** \n",
    "\n",
    "<div class=\"alert alert-block alert-info\">\n",
    "<b>Tip: </b> You don't need any <code>for</code> loops to do this! </div>\n",
    "\n",
    "**Additionally, set all the `NaN` values to zero by using. There is a `numpy` function that can help you with this**\n",
    "\n",
    "***\n"
   ]
  },
  {
   "cell_type": "code",
   "execution_count": 3,
   "metadata": {},
   "outputs": [
    {
     "data": {
      "image/png": "[encoded data removed]",
      "text/plain": [
       "<Figure size 640x480 with 1 Axes>"
      ]
     },
     "metadata": {},
     "output_type": "display_data"
    }
   ],
   "source": [
    "# Q2 answer here\n",
    "\n",
    "frames_median = np.nanmedian(im,axis=(1,2))\n",
    "\n",
    "plt.plot(np.arange(len(frames_median)),frames_median)\n",
    "plt.xlabel('frame number')\n",
    "plt.ylabel('median pixel value')\n",
    "plt.title('Median pixel value as a function of image frame number')\n",
    "plt.show()\n",
    "\n",
    "im_bg = im - frames_median[:,np.newaxis,np.newaxis] #Use np.newaxis to define two additional dummy axis to subtract the array\n",
    "im_bg = np.nan_to_num(im_bg)\n",
    "\n",
    "# Q2 end of answer"
   ]
  },
  {
   "cell_type": "markdown",
   "metadata": {},
   "source": [
    "<a id='part2'></a>\n",
    "\n",
    "## Rotating an image \n",
    "\n",
    "Let us look at a way to rotate an image on the sky. We will only use the functions as provided in this notebook. You do not have to import other Python libraries to perform these rotations.\n",
    "\n",
    "<div class=\"alert alert-block alert-success\">\n",
    "<b>Example 6.1:</b> Make a small image of shape <code>(20,30)</code> with randomly filled values using <code>np.random.random</code>.\n",
    "</div>\n"
   ]
  },
  {
   "cell_type": "code",
   "execution_count": 4,
   "metadata": {
    "scrolled": true
   },
   "outputs": [
    {
     "data": {
      "image/png": "[encoded data removed]",
      "text/plain": [
       "<Figure size 1800x400 with 1 Axes>"
      ]
     },
     "metadata": {},
     "output_type": "display_data"
    }
   ],
   "source": [
    "fig, ax = plt.subplots(1,1, figsize=(18,4))   \n",
    "\n",
    "t1 = np.random.random((20,30))\n",
    "\n",
    "ax.imshow(t1)\n",
    "ax.set_xlabel('x (pixels)');  ax.set_ylabel('y (pixels)')  \n",
    "ax.set_title('data cube', fontsize=18) \n",
    "\n",
    "ax.imshow(t1)\n",
    "plt.show()"
   ]
  },
  {
   "cell_type": "markdown",
   "metadata": {},
   "source": [
    "<div class=\"alert alert-block alert-success\">\n",
    "<b>Example 6.1 (continued):</b> Then put this random image into a larger image of shape <code>(50,75)</code> with a rotation of 30 degrees using <code>cen_rot2()</code>. Convince yourself that you understand how the rotation and translation works in <code>cen_rot2()</code> by trying just moving the image to a new place, then rotating it by 30 degrees or -45 degrees, and understand what the output image looks like compared to the input image.\n",
    "</div>"
   ]
  },
  {
   "cell_type": "code",
   "execution_count": 5,
   "metadata": {},
   "outputs": [
    {
     "data": {
      "application/vnd.jupyter.widget-view+json": {
       "model_id": "27382da0c1744120ab02eb9c9dda7250",
       "version_major": 2,
       "version_minor": 0
      },
      "text/plain": [
       "interactive(children=(IntSlider(value=30, description='$\\\\theta_{\\\\text{rot}} (^{\\\\circ})$', max=360, readout_…"
      ]
     },
     "metadata": {},
     "output_type": "display_data"
    },
    {
     "data": {
      "text/plain": [
       "<Figure size 640x480 with 0 Axes>"
      ]
     },
     "metadata": {},
     "output_type": "display_data"
    }
   ],
   "source": [
    "%run ../week_1/interactive\n",
    "\n",
    "def interactive_rotate_cube(rotate,offx,offy):  \n",
    "    fig, (ax,ax1,ax2) = plt.subplots(1,3, figsize=(18,4))   \n",
    "    fig.suptitle(\"Rotating an image using cen_rot2()\",fontsize = 20, y=1.01)\n",
    "    nx, ny = t1.shape\n",
    "    \n",
    "    ax.imshow(t1)\n",
    "    ax.set_xlabel('x (pixels)');  ax.set_ylabel('y (pixels)')  \n",
    "    ax.set_title('data cube', fontsize=16) \n",
    "    \n",
    "    t_fixed = cen_rot2(t1,0,(50,75), offset1=(offx*nx + 0.5*nx, offy*ny + 0.5*ny))\n",
    "    ax1.imshow(t_fixed)\n",
    "    ax1.set_xlabel('x (pixels)');  ax1.set_ylabel('y (pixels)')  \n",
    "    ax1.set_title(\"let's put things into perspective\", fontsize=16)  \n",
    "\n",
    "    t2 = cen_rot2(t1,rotate,(50,75), offset1=(offx*nx + 0.5*nx, offy*ny + 0.5*ny))\n",
    "    ax2.imshow(t2)\n",
    "    ax2.set_xlabel('x (pixels)');  ax2.set_ylabel('y (pixels)')  \n",
    "    ax2.set_title('rotated data cube', fontsize=16)  \n",
    "    \n",
    "    plt.show()\n",
    "    return None\n",
    "\n",
    "interactive_plot = interactive(interactive_rotate_cube, \n",
    "                               rotate=widgets.IntSlider(value=30, min=0, max=360, step=5, readout_format='.2f', description=\"$\\\\theta_{\\\\text{rot}} (^{\\\\circ})$\"),\n",
    "                               offx=widgets.FloatSlider(value=0.0, min=-0.5, max=0.5, step=0.05, readout_format='.2f', description=\"offset x\"), \n",
    "                               offy=widgets.FloatSlider(value=0.0, min=-0.5, max=0.5, step=0.05, readout_format='.2f', description=\"offset y\") )\n",
    "output = interactive_plot.children[-1]\n",
    "output.layout.height = '450px'\n",
    "interactive_plot\n"
   ]
  },
  {
   "cell_type": "markdown",
   "metadata": {},
   "source": [
    "## Derotating the image cube to align with the sky\n",
    "\n",
    "You can use the function `derot(im, rot, (nx, ny), (sx, sy))` (as defined at the start of the notebook) to produce a cube of images that are `(nx, ny)` in size with the correct derotation to align the sky. \n",
    "\n",
    "\n",
    "<div class=\"alert alert-block alert-success\">\n",
    "<b>Example 6.2:</b> We start off with our larger rotated image from Example 7.1 It had a shape of <code>(50,75)</code> with a rotation of 30 degrees. Now, let us derotate the image back using <code>derot_cube</code> Convince yourself that you understand how the rotation and translation works in <code>derot_cube</code>. \n",
    "</div>\n"
   ]
  },
  {
   "cell_type": "code",
   "execution_count": 6,
   "metadata": {},
   "outputs": [
    {
     "data": {
      "application/vnd.jupyter.widget-view+json": {
       "model_id": "272fd0952b3947a7b7c817620f96878c",
       "version_major": 2,
       "version_minor": 0
      },
      "text/plain": [
       "interactive(children=(IntSlider(value=-30, description='$\\\\theta_{\\\\text{rot}} (^{\\\\circ})$', max=180, min=-18…"
      ]
     },
     "metadata": {},
     "output_type": "display_data"
    }
   ],
   "source": [
    "def interactive_derotate_cube(derotate):  \n",
    "    fig, (ax,ax1,ax2) = plt.subplots(1,3, figsize=(18,4))   \n",
    "    fig.suptitle(\"(De)rotating an image using derot_cube()\",fontsize = 20, y=1.01)\n",
    "    \n",
    "    offx = offy = 0.25  ;    nx, ny = t1.shape\n",
    "    t2 = cen_rot2(t1,30,(50,75), offset1=(offx*nx, offy*ny))\n",
    "    \n",
    "    nx, ny = t2.shape\n",
    "    ax.imshow(t2)\n",
    "    ax.set_xlabel('x (pixels)');  ax.set_ylabel('y (pixels)')  \n",
    "    ax.set_title('cen_rot2( data cube )', fontsize=16) \n",
    "    \n",
    "    offx = offy = 0.50 \n",
    "    t3 = derot_cube(np.asarray([t2]),np.asarray([0]), (50,75), star_cen=(offx*nx, offy*ny))\n",
    "    nim, nx, ny = t3.shape\n",
    "    ax1.imshow(t3[0])\n",
    "    ax1.set_xlabel('x (pixels)');  ax1.set_ylabel('y (pixels)') \n",
    "    degreesign = \"$^{\\\\circ}$\"\n",
    "    title = \"derot_cube(data cube) with 0\"\n",
    "    ax1.set_title(title+degreesign, fontsize=16) \n",
    "    \n",
    "    t4 = derot_cube(np.asarray([t2]),np.asarray([derotate]),(50,75), star_cen=(offx*nx, offy*ny))\n",
    "    ax2.imshow(t4[0])\n",
    "    ax2.set_xlabel('x (pixels)');  ax2.set_ylabel('y (pixels)')  \n",
    "    title = \"derot_cube(data cube) with {}\".format(derotate)\n",
    "    ax2.set_title(title+degreesign, fontsize=16) \n",
    "\n",
    "    plt.show()\n",
    "    return None \n",
    "\n",
    "interactive_plot = interactive(interactive_derotate_cube, \n",
    "                               derotate=widgets.IntSlider(value=-30, min=-180, max=180, step=5, readout_format='.2f', description=\"$\\\\theta_{\\\\text{rot}} (^{\\\\circ})$\"),\n",
    "                               )\n",
    "output = interactive_plot.children[-1]\n",
    "output.layout.height = '450px'\n",
    "interactive_plot\n"
   ]
  },
  {
   "cell_type": "markdown",
   "metadata": {},
   "source": [
    "\n",
    "---\n",
    "<span style=\"  font-size:2em; color: SteelBlue;\">Question 6.3</span> <span style=\"  font-size:1em; color: SteelBlue;\"> (2 points): </span>\n",
    "\n",
    "**Determine the centroid of the star `sx, sy` to the nearest pixel in the data cube by visual inspection. Your derotated images should have a dimension of 501 by 501. Plot the first derotated image. Write out the derotated cube to `out.fits` and use `ds9` to confirm that the PSF is rotated in the `out.fits` images and has the correct size. Use `wfits(cube, fname)` to write out the cube.** \n",
    "\n",
    "***"
   ]
  },
  {
   "cell_type": "code",
   "execution_count": 7,
   "metadata": {},
   "outputs": [
    {
     "data": {
      "image/png": "[encoded data removed]",
      "text/plain": [
       "<Figure size 1800x400 with 1 Axes>"
      ]
     },
     "metadata": {},
     "output_type": "display_data"
    }
   ],
   "source": [
    "# Q3 answer here\n",
    "\n",
    "sx,sy = 611,611\n",
    "im_rot = derot_cube(im_bg,rot,(501,501),(sx,sy))\n",
    "\n",
    "fig,ax = plt.subplots(figsize=(18,4))   \n",
    "ax.imshow(im_rot[0])\n",
    "ax.set_xlabel('x (pixels)');ax.set_ylabel('y (pixels)') \n",
    "degreesign = \"$^{\\\\circ}$\"\n",
    "title = \"derot_cube(data cube) with 0\"\n",
    "ax.set_title(title+degreesign, fontsize=16) \n",
    "\n",
    "wfits(im_rot,'out.fits')\n",
    "\n",
    "# Q3 end of answer"
   ]
  },
  {
   "cell_type": "markdown",
   "metadata": {
    "collapsed": true,
    "jupyter": {
     "outputs_hidden": true
    }
   },
   "source": [
    "## Subtract off the median from all frames then derotate and median\n",
    "\n",
    "\n",
    "---\n",
    "<span style=\"  font-size:2em; color: SteelBlue;\">Question 6.4</span> <span style=\"  font-size:1em; color: SteelBlue;\"> (4 points): </span>\n",
    "\n",
    "1. **Take the median of `im_bg` to estimate the telescope PSF for the whole dataset. The median [1224 x 1224] will remove any planets that are rotating in the frames. Call this median the `im_bg_med`.**\n",
    "2.  **Subtract the median image off of all individual images. Call these images `im_bg_medsub`.** \n",
    "3.  **Derotate the image cube back to the original orientation to align all the planets in the cube, then take the median of that data cube and write it out to `med_sub.fits`. Examine it with `ds9`.**\n",
    "\n",
    "**Answer the question: How many planets you can see?** \n",
    "\n",
    "\n",
    "<div class=\"alert alert-block alert-info\">\n",
    "<b>Tip: </b>  <code>im_bg</code> has zeroes for the  <code>NaN</code> values so we can use <code>im_bg</code> safely </div>\n",
    "\n",
    "***\n",
    "\n"
   ]
  },
  {
   "cell_type": "code",
   "execution_count": 8,
   "metadata": {},
   "outputs": [],
   "source": [
    "# Q4 answer here\n",
    "\n",
    "#Compute the median PSF \n",
    "im_bg_med = np.median(im_bg, axis=0)\n",
    "#Subtract the median image \n",
    "im_bg_medsub = im_bg - im_bg_med[np.newaxis,:,:]\n",
    "#Derotate the image cube back to the original orientation\n",
    "im_bg_medsub_derot = derot_cube(im_bg_medsub,rot,(1224,1224),(sx,sy))\n",
    "\n",
    "#Take the median of the final data cube and inspect the .fits image \n",
    "med_sub = np.median(im_bg_medsub_derot,axis=0)\n",
    "\n",
    "wfits(med_sub,'med_sub.fits')\n",
    "#We can see three planets quite clearly as white spots and there are hints of a fourth one close to the star, but \n",
    "#its hard to see due to speckles \n",
    "\n",
    "# Q4 end of answer"
   ]
  },
  {
   "cell_type": "markdown",
   "metadata": {},
   "source": [
    "#### Adding a progressbar \n",
    "\n",
    "As large routines can take up a long time to compute completely, you might want to consider to make an progressbar. Please do make sure that **you do not import new libraries** as the Jupyter notebook should still be able to **compile cleanly**. Therefore you have to make use of libraries that are always available (at least with installing Python using `Anaconda`). \n"
   ]
  },
  {
   "cell_type": "code",
   "execution_count": 9,
   "metadata": {},
   "outputs": [
    {
     "name": "stdout",
     "output_type": "stream",
     "text": [
      "Progress [{0:5d}/{1}] ---  {2:.3f}%\n"
     ]
    }
   ],
   "source": [
    "import time,sys\n",
    "\n",
    "def ProgressBar(total, progress):\n",
    "    \"\"\" ProgressBar - Displays or updates a console progress bar.\n",
    "    ######################     EXAMPLE     ######################\n",
    "    \n",
    "    runs = 300\n",
    "    for run_num in range(runs):\n",
    "        time.sleep(.1)\n",
    "        ProgressBar(runs, run_num + 1)\n",
    "        \n",
    "    #############################################################\n",
    "    Original source: https://stackoverflow.com/a/15860757/1391441\n",
    "    \"\"\"\n",
    "    barLength, status = 20, \"\"\n",
    "    progress = float(progress) / float(total)\n",
    "    if progress >= 1.:\n",
    "        progress, status = 1, \"\\r\\n\"\n",
    "    block = int(round(barLength * progress))\n",
    "    text = \"\\r[{}] {:.0f}% {}\".format(\n",
    "        \"#\" * block + \"-\" * (barLength - block), round(progress * 100, 0),\n",
    "        status)\n",
    "    sys.stdout.write(text)\n",
    "    sys.stdout.flush()\n",
    "\n",
    "    \n",
    "## A very easy but effective way to print your time\n",
    "print(\"Progress [{0:5d}/{1}] ---  {2:.3f}%\")"
   ]
  },
  {
   "cell_type": "markdown",
   "metadata": {},
   "source": [
    "## Implementing ADI on the Keck data set\n",
    "\n",
    "Today you will implement ADI using the Marois paper as guidance. \n",
    "\n",
    "**You will need to make three nested `for` loops:**\n",
    "\n",
    "1.  **looping over individual frames**\n",
    "2.   **looping over different annuli on which to carry out the ADI frame selection**\n",
    "3.   **looping over different values of `a` (Equation 8 in Marois 2006) to determine the best value to minimise the R.M.S.**\n",
    "\n",
    "\n",
    "\n",
    "<div class=\"alert alert-block alert-info\">\n",
    "<b>Tip: </b> Running the entire routine takes about 10 minutes to do on my 9 year old laptop! So when you're writing and debugging this, remember to do it with only 40 or so frames to make sure your code is working before doing the whole cube. </div>\n"
   ]
  },
  {
   "cell_type": "markdown",
   "metadata": {},
   "source": [
    "\n",
    "---\n",
    "\n",
    "<span style=\"  font-size:2em; color: SteelBlue;\">Question 6.5</span> <span style=\"  font-size:1em; color: SteelBlue;\"> (4 points): </span>\n",
    "\n",
    "**Setting up the DAI routine, according to section 5.2 in Marois 2006** \n",
    "\n",
    "1.  **The $I^D_I$ would be the meadian of all images subtracted from the individual images.** *(you already calculated this!)* **Refer to/Call these images as `ID`. Make an output array `IADI` to store ADI result**\n",
    "2.   **You will need:**\n",
    "   \n",
    "* **(i) `D` the diameter of the telescope,** \n",
    "* **(ii) `nwid` number of FWHM minimum separation required for the ADI routine,** \n",
    "* **(iii) `wlen` the central wavelength and**\n",
    "* **(iv) `pscale` the pixelscale.**\n",
    "\n",
    "3.   **Use `r_theta` to create an array `r_arcsec` that contains the values of radii away from the center in terms of arcseconds.**\n",
    "4.   **Create 80 annuli for the radii where you might expect to find planets. To do this you have to create an array `r_ring` containing all annuli boarders (80 + 1). The inner and outer boardes of each annulus is then defined between `r_ring`[n] and `r_ring`[n+1]. Call the inner most annulus `r_adi`.**\n",
    "\n",
    "***\n"
   ]
  },
  {
   "cell_type": "code",
   "execution_count": 10,
   "metadata": {},
   "outputs": [
    {
     "name": "stdout",
     "output_type": "stream",
     "text": [
      "[[8.64084487 8.63377669 8.62671432 ... 8.63377669 8.64084487 8.64791882]\n",
      " [8.63377669 8.62670273 8.61963456 ... 8.62670273 8.63377669 8.64085644]\n",
      " [8.62671432 8.61963456 8.61256059 ... 8.61963456 8.62671432 8.63379986]\n",
      " ...\n",
      " [8.63377669 8.62670273 8.61963456 ... 8.62670273 8.63377669 8.64085644]\n",
      " [8.64084487 8.63377669 8.62671432 ... 8.63377669 8.64084487 8.64791882]\n",
      " [8.64791882 8.64085644 8.63379986 ... 8.64085644 8.64791882 8.654987  ]]\n"
     ]
    }
   ],
   "source": [
    "# Q5 answer here\n",
    "\n",
    "#taking the distance in pixels from the furthest planet in 6.4 is about 173 pixels\n",
    "\n",
    "#L prime (Lp) filter (covers 3.42 to 4.12 microns in wavelength), and the camera has a pixel scale of 10 mas/pixel.\n",
    "ID = med_sub\n",
    "D = 10 #meters \n",
    "nwid = 1.5 #1.5 * FWHM separation\n",
    "wlen = 0.5 * (3.42 + 4.12) * 1e-6 \n",
    "pscale = 10\n",
    "\n",
    "r_arcsec,_ = r_theta(med_sub,sx,sy)\n",
    "r_arcsec *= pscale #multiply by the pixel scale to get it to mas \n",
    "r_arcsec *= 1e-3\n",
    "#taking the distance in pixels from the furthest planet in 6.4 is about 173 pixels, so lets take 180 \n",
    "r_ring = np.linspace(15,180,21) * pscale * 1e-3 * (1/206265)\n",
    "r_adi = np.array([r_ring[0],r_ring[1]])\n",
    "\n",
    "print(r_arcsec)\n",
    "\n",
    "# Q5 end of answer "
   ]
  },
  {
   "cell_type": "markdown",
   "metadata": {},
   "source": [
    "---\n",
    "\n",
    "<span style=\"  font-size:2em; color: SteelBlue;\">Question 6.6</span> <span style=\"  font-size:1em; color: SteelBlue;\"> (2 points): </span>\n",
    "\n",
    "\n",
    "**Calculate out the minimum angle `min_ang` using inverse trigonometry.**\n",
    "\n",
    "\n",
    "<div class=\"alert alert-block alert-info\">\n",
    "<b>Tip: </b> The minimum amgle is the angle that you must turn in order to move .... FWHM, see end of Section 5.2 or Marois et al. (2006).</div>\n",
    "\n",
    "\n",
    "\n",
    "\n",
    "---"
   ]
  },
  {
   "cell_type": "code",
   "execution_count": 11,
   "metadata": {},
   "outputs": [
    {
     "name": "stdout",
     "output_type": "stream",
     "text": [
      "[51.04309184 30.1118534  21.73379863 17.06408548 14.06402232 11.96798373\n",
      " 10.41878676  9.22627313  8.27957995  7.50959819  6.87096284  6.33264265\n",
      "  5.87268398  5.47511284  5.12802625  4.82237152  4.55114048  4.30882257\n",
      "  4.09102478  3.89420183  3.71546093]\n",
      "[112.350464 113.26494  114.371704 115.446495 116.745384 118.00296\n",
      " 119.37276  120.86669  122.49087  126.20246  128.34117  130.98792\n",
      " 133.60368  136.4934   139.66983  143.1751   147.03757  151.25743\n",
      " 155.84813  160.784    166.04845  177.21693  199.97182  204.87234\n",
      " 213.71477  217.53737  221.00894  224.16191  227.01399  229.60585\n",
      " 231.95871  234.09944  236.04375  238.0214   239.8044   241.26851\n",
      " 243.8324   244.96983  246.02148  247.00235  247.9183   248.7739\n",
      " 251.02284  251.68716  252.31175  252.89624  253.44904  254.03677\n",
      " 254.53268  255.00723  255.45348  255.921    256.3268   256.71304\n",
      " 257.082    257.43515  257.81375  258.135    258.4449   258.7434\n",
      " 259.0313   259.30704  259.57324  259.8294   260.07712  260.31747\n",
      " 260.54858  260.77203  260.98843  261.19876  261.4269   261.62503\n",
      " 261.81604  262.00223  262.18433  262.36063  262.53204  262.69986\n",
      " 262.8632   263.0222   263.17725  263.32858  263.47858  263.62244\n",
      " 263.776    263.9129   264.0469   264.19058  264.3185   264.44394\n",
      " 264.56665  264.6876   264.80566  264.9218  ]\n",
      "[[[0. 0. 0. ... 0. 0. 0.]\n",
      "  [0. 0. 0. ... 0. 0. 0.]\n",
      "  [0. 0. 0. ... 0. 0. 0.]\n",
      "  ...\n",
      "  [0. 0. 0. ... 0. 0. 0.]\n",
      "  [0. 0. 0. ... 0. 0. 0.]\n",
      "  [0. 0. 0. ... 0. 0. 0.]]\n",
      "\n",
      " [[0. 0. 0. ... 0. 0. 0.]\n",
      "  [0. 0. 0. ... 0. 0. 0.]\n",
      "  [0. 0. 0. ... 0. 0. 0.]\n",
      "  ...\n",
      "  [0. 0. 0. ... 0. 0. 0.]\n",
      "  [0. 0. 0. ... 0. 0. 0.]\n",
      "  [0. 0. 0. ... 0. 0. 0.]]\n",
      "\n",
      " [[0. 0. 0. ... 0. 0. 0.]\n",
      "  [0. 0. 0. ... 0. 0. 0.]\n",
      "  [0. 0. 0. ... 0. 0. 0.]\n",
      "  ...\n",
      "  [0. 0. 0. ... 0. 0. 0.]\n",
      "  [0. 0. 0. ... 0. 0. 0.]\n",
      "  [0. 0. 0. ... 0. 0. 0.]]\n",
      "\n",
      " ...\n",
      "\n",
      " [[0. 0. 0. ... 0. 0. 0.]\n",
      "  [0. 0. 0. ... 0. 0. 0.]\n",
      "  [0. 0. 0. ... 0. 0. 0.]\n",
      "  ...\n",
      "  [0. 0. 0. ... 0. 0. 0.]\n",
      "  [0. 0. 0. ... 0. 0. 0.]\n",
      "  [0. 0. 0. ... 0. 0. 0.]]\n",
      "\n",
      " [[0. 0. 0. ... 0. 0. 0.]\n",
      "  [0. 0. 0. ... 0. 0. 0.]\n",
      "  [0. 0. 0. ... 0. 0. 0.]\n",
      "  ...\n",
      "  [0. 0. 0. ... 0. 0. 0.]\n",
      "  [0. 0. 0. ... 0. 0. 0.]\n",
      "  [0. 0. 0. ... 0. 0. 0.]]\n",
      "\n",
      " [[0. 0. 0. ... 0. 0. 0.]\n",
      "  [0. 0. 0. ... 0. 0. 0.]\n",
      "  [0. 0. 0. ... 0. 0. 0.]\n",
      "  ...\n",
      "  [0. 0. 0. ... 0. 0. 0.]\n",
      "  [0. 0. 0. ... 0. 0. 0.]\n",
      "  [0. 0. 0. ... 0. 0. 0.]]]\n"
     ]
    }
   ],
   "source": [
    "# Q6 answer here\n",
    "\n",
    "#First compute dmin\n",
    "dmin = nwid * (wlen / D)\n",
    "#And using the formula from the lecture, find the minimum angle using trigonometry, convert to degrees since rot is in degrees\n",
    "min_ang = np.arcsin(dmin/r_ring) * (180/np.pi)\n",
    "print(min_ang)\n",
    "print(rot)\n",
    "print(im_bg_medsub_derot)\n",
    "\n",
    "# Q6 end of answer"
   ]
  },
  {
   "cell_type": "markdown",
   "metadata": {},
   "source": [
    "# ADI loop\n",
    "In the previous two questions we obtained all the information regarding the observing instrument and the minimum angle that we can use to rotate our frames. Let us now finish our ADI routine. Recall from before that there will be three loops: looping over individual frames, different annuli and different values of `a`. \n",
    "\n",
    "\n",
    "---\n",
    "\n",
    "<span style=\"  font-size:2em; color: SteelBlue;\">Question 6.7</span> <span style=\"  font-size:1em; color: SteelBlue;\"> (6 points): </span>\n",
    "\n",
    "**Finish the ADI routine, according to Marois et al. (2006)** \n",
    "\n",
    "1.  **To set up your test run: Select all annuli for one single individual frame**\n",
    "*   **For each annulus, calculate the 4 closest frames (in `rot`) in time. Store the median over these images as `refrerence_frames`**\n",
    "\n",
    "<div class=\"alert alert-block alert-info\">\n",
    "<b>Tip 1: </b> What is <code>delta_angle</code> from current frame angle? Which frames have angles greater than <code>min_ang?</code> </div>\n",
    "\n",
    "\n",
    "3.   **Minimise the rms of `frame` - `a` $\\times$ `reference_frame` by finding the best value for `a`** using a linear least squares fit\n",
    "\n",
    "<div class=\"alert alert-block alert-info\">\n",
    "<b>Tip 2: </b> In the paper this is summarised by the equation: $$\n",
    "I_{i}^{\\mathrm{ADI}}=I_{i}^{D}-a \\times \\operatorname{median}\\left(I_{i-b}^{D}, I_{i-b-1}^{D}, I_{i+c}^{D}, I_{i+c+1}^{D}\\right)\n",
    "$$ </div>\n",
    "\n",
    "\n",
    "\n",
    "4.  **Store the result in your output array `IADI`**\n",
    "*   **Loop over all annuli in one frame -- test your routine for one frame here!**\n",
    "*   **Loop over individual frames**\n",
    "*   ****\n",
    "\n",
    "\n",
    "\n",
    "***\n"
   ]
  },
  {
   "cell_type": "code",
   "execution_count": 12,
   "metadata": {},
   "outputs": [
    {
     "name": "stdout",
     "output_type": "stream",
     "text": [
      "(94, 1224, 1224)\n",
      "[  0.          0.9144745   2.0212402   3.0960312   4.3949203   5.6524963\n",
      "   7.022293    8.516228   10.140404   13.851997   15.990707   18.637451\n",
      "  21.25322    24.14293    27.319366   30.82463    34.687103   38.906967\n",
      "  43.497665   48.433533   53.697983   64.86647    87.62135    92.52188\n",
      " 101.3643    105.186905  108.65848   111.81145   114.66353   117.25539\n",
      " 119.608246  121.74898   123.69328   125.67093   127.45393   128.91805\n",
      " 131.48193   132.61937   133.67102   134.65189   135.56784   136.42343\n",
      " 138.67238   139.3367    139.96129   140.54578   141.09857   141.68631\n",
      " 142.18222   142.65677   143.10301   143.57054   143.97635   144.36258\n",
      " 144.73154   145.08469   145.46329   145.78455   146.09442   146.39294\n",
      " 146.68085   146.95657   147.22278   147.47894   147.72665   147.96701\n",
      " 148.19812   148.42157   148.63797   148.8483    149.07645   149.27457\n",
      " 149.46558   149.65176   149.83386   150.01016   150.18158   150.3494\n",
      " 150.51273   150.67172   150.82678   150.97812   151.12811   151.27197\n",
      " 151.42554   151.56244   151.69644   151.84012   151.96805   152.09348\n",
      " 152.21619   152.33713   152.4552    152.57135  ]\n",
      "[1.40005161 1.7778347  2.08836011 2.3583468  2.60045215 2.82186163\n",
      " 3.02711988 3.21931771 3.40067026 3.5728294  3.73706591 3.89438228\n",
      " 4.04558587 4.1913383  4.3321898 ]\n",
      "[1.54949679 1.78666775 1.99585144 2.18510052 2.35921716 2.52133833\n",
      " 2.673647   2.81773484 2.95480472 3.085792   3.21144105 3.33235576\n",
      " 3.4490341  3.56189242 3.67128301]\n",
      "[1.6900442  1.79574601 1.89556272 1.99037995 2.08088123 2.1676072\n",
      " 2.25099429 2.33140079 2.40912514 2.4844191  2.55749733 2.62854464\n",
      " 2.69772149 2.76516827 2.83100863]\n",
      "[1.78099938 1.80201398 1.82278633 1.8433246  1.86363655 1.88372949\n",
      " 1.90361036 1.92328573 1.94276185 1.96204465 1.98113977 2.0000526\n",
      " 2.01878825 2.03735162 2.05574736]\n",
      "[1.80076383 1.80341646 1.80606519 1.80871005 1.81135104 1.81398818\n",
      " 1.8166215  1.81925101 1.82187672 1.82449865 1.82711682 1.82973125\n",
      " 1.83234194 1.83494892 1.8375522 ]\n",
      "[1.76235351 1.80070408 1.83825474 1.87505354 1.91114392 1.94656528\n",
      " 1.9813535  2.01554136 2.04915892 2.0822338  2.11479145 2.14685542\n",
      " 2.17844749 2.20958792 2.24029553]\n",
      "[1.79641838 1.80310688 1.80977065 1.81640998 1.82302512 1.82961635\n",
      " 1.83618392 1.84272809 1.84924909 1.85574718 1.8622226  1.86867557\n",
      " 1.87510634 1.88151513 1.88790217]\n",
      "[1.79342558 1.80289406 1.81231308 1.8216834  1.83100576 1.8402809\n",
      " 1.84950953 1.85869233 1.86782999 1.87692317 1.8859725  1.89497862\n",
      " 1.90394214 1.91286366 1.92174376]\n",
      "[1.82626223 1.80524704 1.78398432 1.7624651  1.74067986 1.7186185\n",
      " 1.69627024 1.67362358 1.65066625 1.62738509 1.603766   1.57979383\n",
      " 1.55545226 1.53072365 1.50558894]\n",
      "[1.85156583 1.80708721 1.76148584 1.71467213 1.66654394 1.61698388\n",
      " 1.565856   1.51300138 1.45823227 1.4013242  1.3420051  1.27993978\n",
      " 1.21470738 1.14576707 1.072404  ]\n",
      "[1.85156583 1.80708721 1.76148584 1.71467213 1.66654394 1.61698388\n",
      " 1.565856   1.51300138 1.45823227 1.4013242  1.3420051  1.27993978\n",
      " 1.21470738 1.14576707 1.072404  ]\n",
      "[1.79262804 1.80283741 1.81298928 1.82308463 1.83312438 1.84310944\n",
      " 1.8530407  1.86291901 1.87274523 1.88252015 1.89224457 1.90191928\n",
      " 1.91154502 1.92112254 1.93065254]\n",
      "[1.79262804 1.80283741 1.81298928 1.82308463 1.83312438 1.84310944\n",
      " 1.8530407  1.86291901 1.87274523 1.88252015 1.89224457 1.90191928\n",
      " 1.91154502 1.92112254 1.93065254]\n",
      "[1.79262804 1.80283741 1.81298928 1.82308463 1.83312438 1.84310944\n",
      " 1.8530407  1.86291901 1.87274523 1.88252015 1.89224457 1.90191928\n",
      " 1.91154502 1.92112254 1.93065254]\n",
      "[1.76862374 1.80114314 1.83308573 1.86448116 1.89535661 1.92573709\n",
      " 1.95564568 1.98510371 2.01413093 2.04274572 2.07096518 2.09880525\n",
      " 2.12628083 2.15340587 2.18019346]\n",
      "[1.77245315 1.801412   1.82991263 1.85797612 1.88562199 1.91286835\n",
      " 1.93973203 1.96622872 1.99237306 2.01817875 2.0436586  2.06882467\n",
      " 2.09368826 2.11826003 2.14255002]\n",
      "[1.77245315 1.801412   1.82991263 1.85797612 1.88562199 1.91286835\n",
      " 1.93973203 1.96622872 1.99237306 2.01817875 2.0436586  2.06882467\n",
      " 2.09368826 2.11826003 2.14255002]\n",
      "[1.77245315 1.801412   1.82991263 1.85797612 1.88562199 1.91286835\n",
      " 1.93973203 1.96622872 1.99237306 2.01817875 2.0436586  2.06882467\n",
      " 2.09368826 2.11826003 2.14255002]\n",
      "[1.77245315 1.801412   1.82991263 1.85797612 1.88562199 1.91286835\n",
      " 1.93973203 1.96622872 1.99237306 2.01817875 2.0436586  2.06882467\n",
      " 2.09368826 2.11826003 2.14255002]\n",
      "[1.73640815 1.79890276 1.85929799 1.9177922  1.97455433 2.02972971\n",
      " 2.0834444  2.13580862 2.18691938 2.23686259 2.2857148  2.33354452\n",
      " 2.38041339 2.42637709 2.47148613]\n",
      "[1.81599782 1.80450727 1.79294308 1.78130382 1.76958801 1.75779411\n",
      " 1.74592055 1.73396568 1.72192781 1.7098052  1.69759601 1.68529838\n",
      " 1.67291035 1.6604299  1.64785493]\n",
      "15.970885038375854\n"
     ]
    }
   ],
   "source": [
    "import time #### PLEASE DO NOT REMOVE THIS MODULE AND THE start_ADIloop, end_ADIloop and print() THAT IS ALREADY IN THIS CELL\n",
    "start_ADIloop = time.time()\n",
    "\n",
    "# Q7 answer here\n",
    "\n",
    "a_val = np.linspace(-0.1,1.2,15)\n",
    "ref_frames_scaled = np.zeros(len(a_val))\n",
    "\n",
    "#print(np.shape(im_bg_medsub))\n",
    "#print(np.shape(r_ring))\n",
    "#frame_shape = np.shape(im_bg_medsub)\n",
    "\n",
    "print(np.shape(im))\n",
    "IADI = np.zeros_like(im,dtype=np.float16)\n",
    "IADI_ring = np.zeros(len(r_ring))\n",
    "# ADI loop:\n",
    "# loop over individual frames\n",
    "for iframe,frame in enumerate(im_bg_medsub[:1]):\n",
    "    #Find the current angle\n",
    "    current_ang = rot[iframe]\n",
    "    #Delta angle is the difference in angle between the current angle and the angle of the other frames\n",
    "    delta_angle = rot - current_ang \n",
    "    print(delta_angle)\n",
    "    # ....\n",
    "    # for each frame, loop over all annuli\n",
    "    count = 0\n",
    "    for ring,ang in zip(r_ring,min_ang):\n",
    "        \n",
    "        #Get the closest values to the minimum angle required \n",
    "        delta_angle_sub = np.abs(delta_angle - ang)\n",
    "        #Now get the indices of the smallest delta angles \n",
    "        #print(delta_angle_sub)\n",
    "        smallest4 = np.argsort(delta_angle_sub)[1:5]\n",
    "        smallest4_frames = im_bg_medsub_derot[smallest4]\n",
    "        #print(smallest4_frames.shape)\n",
    "        reference_frames = np.median(smallest4_frames,axis=0)\n",
    "        \n",
    "        for a in range(len(a_val)):\n",
    "            diff_mean = np.mean(frame - a_val[a]*reference_frames)\n",
    "            ref_frames_scaled[a] = np.sqrt(diff_mean)\n",
    "            \n",
    "        print(ref_frames_scaled)\n",
    "        min_rms = np.argmin(ref_frames_scaled)\n",
    "        IADI[iframe,:] = frame - a_val[min_rms] * reference_frames\n",
    "        \n",
    "        #print(delta_angle_sub)\n",
    "        #print(smallest4)\n",
    "        # add progressbar in inner loop\n",
    "        # (1.)\n",
    "        # (2.)\n",
    "        # (3.)\n",
    "        # (4.)\n",
    "        count += 1\n",
    "        \n",
    "# Q7 end answer\n",
    "\n",
    "end_ADIloop = time.time()\n",
    "print(end_ADIloop - start_ADIloop)"
   ]
  },
  {
   "cell_type": "markdown",
   "metadata": {},
   "source": [
    "## Writing out the ADI image\n",
    "---\n",
    "\n",
    "<span style=\"  font-size:2em; color: SteelBlue;\">Question 6.8</span> <span style=\"  font-size:1em; color: SteelBlue;\"> (2 points): </span>\n",
    "\n",
    "**Derotate the ADI image cube to the sky coordinates and median it together, and write it out to `ADI.fits`**\n",
    "\n",
    "***"
   ]
  },
  {
   "cell_type": "code",
   "execution_count": 13,
   "metadata": {},
   "outputs": [
    {
     "ename": "RuntimeError",
     "evalue": "array type dtype('float16') not supported",
     "output_type": "error",
     "traceback": [
      "\u001b[1;31m---------------------------------------------------------------------------\u001b[0m",
      "\u001b[1;31mRuntimeError\u001b[0m                              Traceback (most recent call last)",
      "\u001b[1;32m~\\AppData\\Local\\Temp\\ipykernel_13872\\58356393.py\u001b[0m in \u001b[0;36m<module>\u001b[1;34m\u001b[0m\n\u001b[0;32m      2\u001b[0m \u001b[1;33m\u001b[0m\u001b[0m\n\u001b[0;32m      3\u001b[0m \u001b[1;31m#Derotate the ADI image cube back to the sky coordinates\u001b[0m\u001b[1;33m\u001b[0m\u001b[1;33m\u001b[0m\u001b[0m\n\u001b[1;32m----> 4\u001b[1;33m \u001b[0mIADI_derot\u001b[0m \u001b[1;33m=\u001b[0m \u001b[0mderot_cube\u001b[0m\u001b[1;33m(\u001b[0m\u001b[0mIADI\u001b[0m\u001b[1;33m,\u001b[0m\u001b[0mrot\u001b[0m\u001b[1;33m,\u001b[0m\u001b[1;33m(\u001b[0m\u001b[1;36m1224\u001b[0m\u001b[1;33m,\u001b[0m\u001b[1;36m1224\u001b[0m\u001b[1;33m)\u001b[0m\u001b[1;33m,\u001b[0m\u001b[1;33m(\u001b[0m\u001b[0msx\u001b[0m\u001b[1;33m,\u001b[0m\u001b[0msy\u001b[0m\u001b[1;33m)\u001b[0m\u001b[1;33m)\u001b[0m\u001b[1;33m\u001b[0m\u001b[1;33m\u001b[0m\u001b[0m\n\u001b[0m\u001b[0;32m      5\u001b[0m \u001b[1;33m\u001b[0m\u001b[0m\n\u001b[0;32m      6\u001b[0m \u001b[1;31m#Take the median of the final data cube and inspect the .fits image\u001b[0m\u001b[1;33m\u001b[0m\u001b[1;33m\u001b[0m\u001b[0m\n",
      "\u001b[1;32m~\\AppData\\Local\\Temp\\ipykernel_13872\\219908904.py\u001b[0m in \u001b[0;36mderot_cube\u001b[1;34m(imin, rotangle, out_dims, star_cen)\u001b[0m\n\u001b[0;32m     64\u001b[0m     \u001b[1;32mfor\u001b[0m \u001b[0mj\u001b[0m\u001b[1;33m,\u001b[0m \u001b[0mframe\u001b[0m \u001b[1;32min\u001b[0m \u001b[0menumerate\u001b[0m\u001b[1;33m(\u001b[0m\u001b[0mnp\u001b[0m\u001b[1;33m.\u001b[0m\u001b[0msplit\u001b[0m\u001b[1;33m(\u001b[0m\u001b[0mimin\u001b[0m\u001b[1;33m,\u001b[0m \u001b[0mnim\u001b[0m\u001b[1;33m,\u001b[0m \u001b[0maxis\u001b[0m\u001b[1;33m=\u001b[0m\u001b[1;36m0\u001b[0m\u001b[1;33m)\u001b[0m\u001b[1;33m)\u001b[0m\u001b[1;33m:\u001b[0m\u001b[1;33m\u001b[0m\u001b[1;33m\u001b[0m\u001b[0m\n\u001b[0;32m     65\u001b[0m         \u001b[0mframe_sq\u001b[0m \u001b[1;33m=\u001b[0m \u001b[0mnp\u001b[0m\u001b[1;33m.\u001b[0m\u001b[0msqueeze\u001b[0m\u001b[1;33m(\u001b[0m\u001b[0mframe\u001b[0m\u001b[1;33m)\u001b[0m\u001b[1;33m\u001b[0m\u001b[1;33m\u001b[0m\u001b[0m\n\u001b[1;32m---> 66\u001b[1;33m         \u001b[0mframe_rot\u001b[0m \u001b[1;33m=\u001b[0m \u001b[0mcen_rot2\u001b[0m\u001b[1;33m(\u001b[0m\u001b[0mframe_sq\u001b[0m\u001b[1;33m,\u001b[0m \u001b[0mrotangle\u001b[0m\u001b[1;33m[\u001b[0m\u001b[0mj\u001b[0m\u001b[1;33m]\u001b[0m\u001b[1;33m,\u001b[0m \u001b[0mout_dims\u001b[0m\u001b[1;33m,\u001b[0m \u001b[0moffset1\u001b[0m\u001b[1;33m=\u001b[0m\u001b[0mstar_cen\u001b[0m\u001b[1;33m)\u001b[0m\u001b[1;33m\u001b[0m\u001b[1;33m\u001b[0m\u001b[0m\n\u001b[0m\u001b[0;32m     67\u001b[0m         \u001b[0mim_out\u001b[0m\u001b[1;33m[\u001b[0m\u001b[0mj\u001b[0m\u001b[1;33m,\u001b[0m\u001b[1;33m:\u001b[0m\u001b[1;33m,\u001b[0m\u001b[1;33m:\u001b[0m\u001b[1;33m]\u001b[0m \u001b[1;33m=\u001b[0m \u001b[0mframe_rot\u001b[0m\u001b[1;33m\u001b[0m\u001b[1;33m\u001b[0m\u001b[0m\n\u001b[0;32m     68\u001b[0m \u001b[1;33m\u001b[0m\u001b[0m\n",
      "\u001b[1;32m~\\AppData\\Local\\Temp\\ipykernel_13872\\219908904.py\u001b[0m in \u001b[0;36mcen_rot2\u001b[1;34m(im, rot, dim_out, offset1, offset2, order)\u001b[0m\n\u001b[0;32m     45\u001b[0m \u001b[1;33m\u001b[0m\u001b[0m\n\u001b[0;32m     46\u001b[0m     \u001b[1;31m# perform the transformation\u001b[0m\u001b[1;33m\u001b[0m\u001b[1;33m\u001b[0m\u001b[0m\n\u001b[1;32m---> 47\u001b[1;33m     dst=affine_transform( \\\n\u001b[0m\u001b[0;32m     48\u001b[0m         \u001b[0mim\u001b[0m\u001b[1;33m,\u001b[0m\u001b[0mtransform\u001b[0m\u001b[1;33m.\u001b[0m\u001b[0mT\u001b[0m\u001b[1;33m,\u001b[0m \u001b[0morder\u001b[0m\u001b[1;33m=\u001b[0m\u001b[0morder\u001b[0m\u001b[1;33m,\u001b[0m\u001b[0moffset\u001b[0m\u001b[1;33m=\u001b[0m\u001b[0moffset\u001b[0m\u001b[1;33m,\u001b[0m\u001b[0;31m \u001b[0m\u001b[0;31m\\\u001b[0m\u001b[1;33m\u001b[0m\u001b[1;33m\u001b[0m\u001b[0m\n\u001b[0;32m     49\u001b[0m         output_shape=dim_out, cval=0.0)\n",
      "\u001b[1;32m~\\anaconda3\\lib\\site-packages\\scipy\\ndimage\\_interpolation.py\u001b[0m in \u001b[0;36maffine_transform\u001b[1;34m(input, matrix, offset, output_shape, output, order, mode, cval, prefilter)\u001b[0m\n\u001b[0;32m    567\u001b[0m     \u001b[1;32mif\u001b[0m \u001b[0mprefilter\u001b[0m \u001b[1;32mand\u001b[0m \u001b[0morder\u001b[0m \u001b[1;33m>\u001b[0m \u001b[1;36m1\u001b[0m\u001b[1;33m:\u001b[0m\u001b[1;33m\u001b[0m\u001b[1;33m\u001b[0m\u001b[0m\n\u001b[0;32m    568\u001b[0m         \u001b[0mpadded\u001b[0m\u001b[1;33m,\u001b[0m \u001b[0mnpad\u001b[0m \u001b[1;33m=\u001b[0m \u001b[0m_prepad_for_spline_filter\u001b[0m\u001b[1;33m(\u001b[0m\u001b[0minput\u001b[0m\u001b[1;33m,\u001b[0m \u001b[0mmode\u001b[0m\u001b[1;33m,\u001b[0m \u001b[0mcval\u001b[0m\u001b[1;33m)\u001b[0m\u001b[1;33m\u001b[0m\u001b[1;33m\u001b[0m\u001b[0m\n\u001b[1;32m--> 569\u001b[1;33m         filtered = spline_filter(padded, order, output=numpy.float64,\n\u001b[0m\u001b[0;32m    570\u001b[0m                                  mode=mode)\n\u001b[0;32m    571\u001b[0m     \u001b[1;32melse\u001b[0m\u001b[1;33m:\u001b[0m\u001b[1;33m\u001b[0m\u001b[1;33m\u001b[0m\u001b[0m\n",
      "\u001b[1;32m~\\anaconda3\\lib\\site-packages\\scipy\\ndimage\\_interpolation.py\u001b[0m in \u001b[0;36mspline_filter\u001b[1;34m(input, order, output, mode)\u001b[0m\n\u001b[0;32m    187\u001b[0m     \u001b[1;32mif\u001b[0m \u001b[0morder\u001b[0m \u001b[1;32mnot\u001b[0m \u001b[1;32min\u001b[0m \u001b[1;33m[\u001b[0m\u001b[1;36m0\u001b[0m\u001b[1;33m,\u001b[0m \u001b[1;36m1\u001b[0m\u001b[1;33m]\u001b[0m \u001b[1;32mand\u001b[0m \u001b[0minput\u001b[0m\u001b[1;33m.\u001b[0m\u001b[0mndim\u001b[0m \u001b[1;33m>\u001b[0m \u001b[1;36m0\u001b[0m\u001b[1;33m:\u001b[0m\u001b[1;33m\u001b[0m\u001b[1;33m\u001b[0m\u001b[0m\n\u001b[0;32m    188\u001b[0m         \u001b[1;32mfor\u001b[0m \u001b[0maxis\u001b[0m \u001b[1;32min\u001b[0m \u001b[0mrange\u001b[0m\u001b[1;33m(\u001b[0m\u001b[0minput\u001b[0m\u001b[1;33m.\u001b[0m\u001b[0mndim\u001b[0m\u001b[1;33m)\u001b[0m\u001b[1;33m:\u001b[0m\u001b[1;33m\u001b[0m\u001b[1;33m\u001b[0m\u001b[0m\n\u001b[1;32m--> 189\u001b[1;33m             \u001b[0mspline_filter1d\u001b[0m\u001b[1;33m(\u001b[0m\u001b[0minput\u001b[0m\u001b[1;33m,\u001b[0m \u001b[0morder\u001b[0m\u001b[1;33m,\u001b[0m \u001b[0maxis\u001b[0m\u001b[1;33m,\u001b[0m \u001b[0moutput\u001b[0m\u001b[1;33m=\u001b[0m\u001b[0moutput\u001b[0m\u001b[1;33m,\u001b[0m \u001b[0mmode\u001b[0m\u001b[1;33m=\u001b[0m\u001b[0mmode\u001b[0m\u001b[1;33m)\u001b[0m\u001b[1;33m\u001b[0m\u001b[1;33m\u001b[0m\u001b[0m\n\u001b[0m\u001b[0;32m    190\u001b[0m             \u001b[0minput\u001b[0m \u001b[1;33m=\u001b[0m \u001b[0moutput\u001b[0m\u001b[1;33m\u001b[0m\u001b[1;33m\u001b[0m\u001b[0m\n\u001b[0;32m    191\u001b[0m     \u001b[1;32melse\u001b[0m\u001b[1;33m:\u001b[0m\u001b[1;33m\u001b[0m\u001b[1;33m\u001b[0m\u001b[0m\n",
      "\u001b[1;32m~\\anaconda3\\lib\\site-packages\\scipy\\ndimage\\_interpolation.py\u001b[0m in \u001b[0;36mspline_filter1d\u001b[1;34m(input, order, axis, output, mode)\u001b[0m\n\u001b[0;32m    129\u001b[0m         \u001b[0mmode\u001b[0m \u001b[1;33m=\u001b[0m \u001b[0m_ni_support\u001b[0m\u001b[1;33m.\u001b[0m\u001b[0m_extend_mode_to_code\u001b[0m\u001b[1;33m(\u001b[0m\u001b[0mmode\u001b[0m\u001b[1;33m)\u001b[0m\u001b[1;33m\u001b[0m\u001b[1;33m\u001b[0m\u001b[0m\n\u001b[0;32m    130\u001b[0m         \u001b[0maxis\u001b[0m \u001b[1;33m=\u001b[0m \u001b[0mnormalize_axis_index\u001b[0m\u001b[1;33m(\u001b[0m\u001b[0maxis\u001b[0m\u001b[1;33m,\u001b[0m \u001b[0minput\u001b[0m\u001b[1;33m.\u001b[0m\u001b[0mndim\u001b[0m\u001b[1;33m)\u001b[0m\u001b[1;33m\u001b[0m\u001b[1;33m\u001b[0m\u001b[0m\n\u001b[1;32m--> 131\u001b[1;33m         \u001b[0m_nd_image\u001b[0m\u001b[1;33m.\u001b[0m\u001b[0mspline_filter1d\u001b[0m\u001b[1;33m(\u001b[0m\u001b[0minput\u001b[0m\u001b[1;33m,\u001b[0m \u001b[0morder\u001b[0m\u001b[1;33m,\u001b[0m \u001b[0maxis\u001b[0m\u001b[1;33m,\u001b[0m \u001b[0moutput\u001b[0m\u001b[1;33m,\u001b[0m \u001b[0mmode\u001b[0m\u001b[1;33m)\u001b[0m\u001b[1;33m\u001b[0m\u001b[1;33m\u001b[0m\u001b[0m\n\u001b[0m\u001b[0;32m    132\u001b[0m     \u001b[1;32mreturn\u001b[0m \u001b[0moutput\u001b[0m\u001b[1;33m\u001b[0m\u001b[1;33m\u001b[0m\u001b[0m\n\u001b[0;32m    133\u001b[0m \u001b[1;33m\u001b[0m\u001b[0m\n",
      "\u001b[1;31mRuntimeError\u001b[0m: array type dtype('float16') not supported"
     ]
    }
   ],
   "source": [
    "# Q8 answer here\n",
    "\n",
    "#Derotate the ADI image cube back to the sky coordinates\n",
    "IADI_derot = derot_cube(IADI,rot,(1224,1224),(sx,sy))\n",
    "\n",
    "#Take the median of the final data cube and inspect the .fits image \n",
    "IADI_derot_median = np.median(IADI_derot,axis=0)\n",
    "\n",
    "#Write out to a .fits file \n",
    "wfits(IADI_derot_median,'ADI.fits')\n",
    "# Q8 end answer"
   ]
  },
  {
   "cell_type": "markdown",
   "metadata": {
    "collapsed": true,
    "jupyter": {
     "outputs_hidden": true
    }
   },
   "source": [
    "## Comparing simple median and ADI\n",
    "\n",
    "\n",
    "---\n",
    "\n",
    "<span style=\"  font-size:2em; color: SteelBlue;\">Question 6.9</span> <span style=\"  font-size:1em; color: SteelBlue;\"> (4 points): </span>\n",
    "\n",
    "**Define annuli from 0.2 arcsec through to 4 arcsec in 0.1 arcsec steps. Plot the radius of the middle of width of the ring versus the r.m.s. in each ring, for first the simple median subtracted case, and for the ADI subtracted case. In this way, we can compare the noise at different radii for both the simple median case and the ADI case.** \n",
    "\n",
    "**Answer the question: Which of the two methods works the best, or would you prefer? Please explain.**\n",
    "\n",
    "***\n"
   ]
  },
  {
   "cell_type": "code",
   "execution_count": null,
   "metadata": {},
   "outputs": [],
   "source": [
    "# Q9 answer\n",
    "\n",
    "annuli = np.arange(0.2,4,0.1)\n",
    "print(annuli)\n",
    "\n",
    "\n",
    "\n",
    "# Q9 end answer"
   ]
  },
  {
   "cell_type": "markdown",
   "metadata": {
    "collapsed": true,
    "jupyter": {
     "outputs_hidden": true
    }
   },
   "source": [
    "<div class=\"alert alert-block alert-info\">\n",
    "<b>REMEMBER:</b> to make sure your code compiles cleanly before submitting it! <br><b>Please send your OWN ADI.fits file [see question 6.8] along with the notebook. <br>You can hand in the week_06_[yourname].ipynb and ADI.fits by compressing them into a .zip file</b>\n",
    "</div>\n",
    "\n",
    "\n",
    "---\n",
    "<span style=\"  font-size:2em; color: SteelBlue;\">Your time has a value as well</span> \n",
    " </span>\n",
    "\n",
    "---\n",
    "\n",
    "### How long did this Practicum take?\n",
    "Please enter the number of hours you spent on this Practicum (including the time spend besides the time spend during the Lecture) below:\n"
   ]
  },
  {
   "cell_type": "code",
   "execution_count": null,
   "metadata": {},
   "outputs": [],
   "source": [
    "# Number of hours taken for this practicum:\n"
   ]
  }
 ],
 "metadata": {
  "kernelspec": {
   "display_name": "Python 3 (ipykernel)",
   "language": "python",
   "name": "python3"
  },
  "language_info": {
   "codemirror_mode": {
    "name": "ipython",
    "version": 3
   },
   "file_extension": ".py",
   "mimetype": "text/x-python",
   "name": "python",
   "nbconvert_exporter": "python",
   "pygments_lexer": "ipython3",
   "version": "3.9.13"
  }
 },
 "nbformat": 4,
 "nbformat_minor": 4
}
